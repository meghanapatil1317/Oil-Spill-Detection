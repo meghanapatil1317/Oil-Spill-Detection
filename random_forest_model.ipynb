{
 "cells": [
  {
   "cell_type": "code",
   "execution_count": 2,
   "metadata": {},
   "outputs": [
    {
     "name": "stdout",
     "output_type": "stream",
     "text": [
      "   MMSI         BaseDateTime       LAT       LON  SOG    COG  Heading  \\\n",
      "0    11  2024-12-31 00:00:44  27.29231 -90.96791  0.0  223.8    511.0   \n",
      "1    11  2024-12-31 00:03:45  27.29230 -90.96785  0.1  220.8    511.0   \n",
      "2    11  2024-12-31 00:09:46  27.29234 -90.96789  0.1  200.6    511.0   \n",
      "3    11  2024-12-31 00:18:44  27.29226 -90.96779  0.1  222.1    511.0   \n",
      "4    11  2024-12-31 00:21:48  27.29235 -90.96787  0.1  207.0    511.0   \n",
      "\n",
      "     VesselName         IMO CallSign  ...  Width  Draft  Cargo  \\\n",
      "0  CONSTITUTION  IMO0000007   GC 680  ...   38.0    0.0   90.0   \n",
      "1  CONSTITUTION  IMO0000007   GC 680  ...   38.0    0.0   90.0   \n",
      "2  CONSTITUTION  IMO0000007   GC 680  ...   38.0    0.0   90.0   \n",
      "3  CONSTITUTION  IMO0000007   GC 680  ...   38.0    0.0   90.0   \n",
      "4  CONSTITUTION  IMO0000007   GC 680  ...   38.0    0.0   90.0   \n",
      "\n",
      "   TransceiverClass  heading_vs_cog_diff  time_diff_min is_loitering  \\\n",
      "0                 A                287.2            NaN        False   \n",
      "1                 A                290.2       3.016667        False   \n",
      "2                 A                310.4       6.016667         True   \n",
      "3                 A                288.9       8.966667         True   \n",
      "4                 A                304.0       3.066667        False   \n",
      "\n",
      "   loiter_time  speed_change  course_change  \n",
      "0            1           NaN            NaN  \n",
      "1            1           0.1           -3.0  \n",
      "2            0           0.0          -20.2  \n",
      "3            1           0.0           21.5  \n",
      "4            0           0.0          -15.1  \n",
      "\n",
      "[5 rows x 23 columns]\n"
     ]
    }
   ],
   "source": [
    "import pandas as pd\n",
    "\n",
    "# Load the preprocessed dataset\n",
    "df = pd.read_csv('updated_ships_data_with_loitering.csv')  # Replace with your preprocessed data file path\n",
    "\n",
    "# Check the first few rows of the data to ensure it's correct\n",
    "print(df.head())"
   ]
  },
  {
   "cell_type": "code",
   "execution_count": 3,
   "metadata": {},
   "outputs": [],
   "source": [
    "df.columns\n",
    "# Target variable: Custom condition for detecting oil spill\n",
    "df['is_oil_spill'] = (df['SOG'] < 1) & (df['is_loitering'] == 1) & (df['heading_vs_cog_diff'] > 20)\n"
   ]
  },
  {
   "cell_type": "code",
   "execution_count": 4,
   "metadata": {},
   "outputs": [
    {
     "name": "stdout",
     "output_type": "stream",
     "text": [
      "              precision    recall  f1-score   support\n",
      "\n",
      "       False       1.00      1.00      1.00    925497\n",
      "        True       1.00      1.00      1.00     24887\n",
      "\n",
      "    accuracy                           1.00    950384\n",
      "   macro avg       1.00      1.00      1.00    950384\n",
      "weighted avg       1.00      1.00      1.00    950384\n",
      "\n",
      "Training set size: (2217560, 11)\n",
      "Testing set size: (950384, 11)\n"
     ]
    }
   ],
   "source": [
    "from sklearn.model_selection import train_test_split\n",
    "from sklearn.ensemble import RandomForestClassifier\n",
    "from sklearn.metrics import classification_report\n",
    "\n",
    "# Define features (X) and target (y)\n",
    "X = df[['LAT', 'LON','COG', 'SOG', 'Heading', 'heading_vs_cog_diff', 'time_diff_min', 'is_loitering', \n",
    "        'loiter_time', 'speed_change', 'course_change']]\n",
    "y = df['is_oil_spill']  # Target: whether an oil spill is detected\n",
    "\n",
    "# Split the data into training and testing sets\n",
    "X_train, X_test, y_train, y_test = train_test_split(X, y, test_size=0.3, random_state=42)\n",
    "\n",
    "# Initialize and train Random Forest model\n",
    "rf_model = RandomForestClassifier(n_estimators=100, random_state=42)\n",
    "rf_model.fit(X_train, y_train)\n",
    "\n",
    "# Predict on test set\n",
    "y_pred = rf_model.predict(X_test)\n",
    "\n",
    "# Evaluate the model performance\n",
    "print(classification_report(y_test, y_pred))\n",
    "\n",
    "\n",
    "# Check the shape of the resulting data\n",
    "print(f\"Training set size: {X_train.shape}\")\n",
    "print(f\"Testing set size: {X_test.shape}\")\n"
   ]
  },
  {
   "cell_type": "code",
   "execution_count": 5,
   "metadata": {},
   "outputs": [
    {
     "name": "stdout",
     "output_type": "stream",
     "text": [
      "                Feature  Importance\n",
      "7          is_loitering    0.581529\n",
      "6         time_diff_min    0.294736\n",
      "5   heading_vs_cog_diff    0.102560\n",
      "3                   SOG    0.014037\n",
      "4               Heading    0.002331\n",
      "0                   LAT    0.001629\n",
      "2                   COG    0.001041\n",
      "9          speed_change    0.001002\n",
      "1                   LON    0.000761\n",
      "10        course_change    0.000368\n",
      "8           loiter_time    0.000006\n"
     ]
    }
   ],
   "source": [
    "# Get feature importance\n",
    "feature_importances = rf_model.feature_importances_\n",
    "\n",
    "# Create a DataFrame to visualize feature importance\n",
    "importance_df = pd.DataFrame({'Feature': X.columns, 'Importance': feature_importances})\n",
    "importance_df = importance_df.sort_values(by='Importance', ascending=False)\n",
    "\n",
    "print(importance_df)"
   ]
  },
  {
   "cell_type": "code",
   "execution_count": 13,
   "metadata": {},
   "outputs": [
    {
     "name": "stdout",
     "output_type": "stream",
     "text": [
      "Training columns: Index(['LAT', 'LON', 'COG', 'SOG', 'Heading', 'heading_vs_cog_diff',\n",
      "       'time_diff_min', 'is_loitering', 'loiter_time', 'speed_change',\n",
      "       'course_change'],\n",
      "      dtype='object')\n",
      "New data columns: Index(['LAT', 'LON', 'COG', 'SOG', 'Heading', 'heading_vs_cog_diff',\n",
      "       'time_diff_min', 'is_loitering', 'loiter_time', 'speed_change',\n",
      "       'course_change'],\n",
      "      dtype='object')\n",
      "No oil spill detected.\n"
     ]
    },
    {
     "name": "stderr",
     "output_type": "stream",
     "text": [
      "c:\\Users\\gitan\\AppData\\Local\\Programs\\Python\\Python312\\Lib\\site-packages\\sklearn\\utils\\validation.py:2739: UserWarning: X does not have valid feature names, but RandomForestClassifier was fitted with feature names\n",
      "  warnings.warn(\n"
     ]
    }
   ],
   "source": [
    "import pandas as pd\n",
    "from sklearn.preprocessing import StandardScaler\n",
    "from sklearn.ensemble import RandomForestClassifier\n",
    "\n",
    "# Sample training data (Replace with actual data and model training)\n",
    "# Assuming X_train is your feature set and rf_model is your trained RandomForestClassifier\n",
    "\n",
    "# Sample input for oil spill\n",
    "oil_spill_sample = {\n",
    "    'LAT': [12.9716],                 # Latitude of the vessel\n",
    "    'LON': [77.5946],                 # Longitude of the vessel\n",
    "    'COG': [180],                     # Course Over Ground\n",
    "    'SOG': [0.5],                     # Speed Over Ground (very low speed, suggests potential oil spill)\n",
    "    'Heading': [90],                  # Heading of the vessel\n",
    "    'heading_vs_cog_diff': [30],      # Significant difference between heading and COG\n",
    "    'time_diff_min': [15],            # Time difference (minutes)\n",
    "    'is_loitering': [1],              # The vessel is loitering (indicating possible oil spill behavior)\n",
    "    'loiter_time': [60],              # Time the vessel has been loitering (in minutes)\n",
    "    'speed_change': [0.1],            # Speed change over time\n",
    "    'course_change': [0.1]            # Course change over time\n",
    "}\n",
    "\n",
    "# Convert the sample input to a DataFrame\n",
    "oil_spill_df = pd.DataFrame(oil_spill_sample)\n",
    "\n",
    "# Assuming you already have your trained model (`rf_model`) and scaler (`scaler`)\n",
    "\n",
    "# Initialize the scaler and fit it on the training data (X_train)\n",
    "scaler = StandardScaler()\n",
    "\n",
    "# Fit the scaler using X_train (ensure X_train is available from previous training steps)\n",
    "scaler.fit(X_train)\n",
    "\n",
    "# Ensure the new data columns match the training data columns (this is a basic check)\n",
    "print(\"Training columns:\", X_train.columns)  # Columns from the training data\n",
    "print(\"New data columns:\", oil_spill_df.columns)  # Columns from the new data\n",
    "\n",
    "# Check for missing columns in the new data compared to the training data\n",
    "missing_cols = set(X_train.columns) - set(oil_spill_df.columns)\n",
    "for col in missing_cols:\n",
    "    oil_spill_df[col] = 0  # You can fill missing columns with zeros or np.nan as per your use case\n",
    "\n",
    "# Reorder the new data to match the training data column order\n",
    "oil_spill_df = oil_spill_df[X_train.columns]\n",
    "\n",
    "# Apply scaling to the new data using the already fitted scaler\n",
    "scaled_oil_spill_data = scaler.transform(oil_spill_df)\n",
    "\n",
    "# Predict anomaly (1 for oil spill, 0 for no oil spill)\n",
    "prediction = rf_model.predict(scaled_oil_spill_data)\n",
    "\n",
    "# Print prediction result\n",
    "if prediction == 1:\n",
    "    print(\"Potential oil spill detected!\")\n",
    "else:\n",
    "    print(\"No oil spill detected.\")\n",
    "\n"
   ]
  },
  {
   "cell_type": "code",
   "execution_count": null,
   "metadata": {},
   "outputs": [],
   "source": []
  }
 ],
 "metadata": {
  "kernelspec": {
   "display_name": "Python 3",
   "language": "python",
   "name": "python3"
  },
  "language_info": {
   "codemirror_mode": {
    "name": "ipython",
    "version": 3
   },
   "file_extension": ".py",
   "mimetype": "text/x-python",
   "name": "python",
   "nbconvert_exporter": "python",
   "pygments_lexer": "ipython3",
   "version": "3.12.2"
  }
 },
 "nbformat": 4,
 "nbformat_minor": 2
}
