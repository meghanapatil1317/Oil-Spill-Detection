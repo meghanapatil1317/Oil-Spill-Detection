{
 "cells": [
  {
   "cell_type": "code",
   "execution_count": null,
   "metadata": {},
   "outputs": [
    {
     "ename": "",
     "evalue": "",
     "output_type": "error",
     "traceback": [
      "\u001b[1;31mThe kernel failed to start due to the missing module 'packaging'. Consider installing this module.\n",
      "\u001b[1;31mClick <a href='https://aka.ms/kernelFailuresMissingModule'>here</a> for more info."
     ]
    }
   ],
   "source": [
    "import numpy as np\n",
    "import pandas as pd\n",
    "import matplotlib.pyplot as plt"
   ]
  },
  {
   "cell_type": "code",
   "execution_count": null,
   "metadata": {},
   "outputs": [],
   "source": [
    "# Load AIS data\n",
    "df = pd.read_csv(\"AIS_2024_12_31.csv\")\n"
   ]
  },
  {
   "cell_type": "code",
   "execution_count": null,
   "metadata": {},
   "outputs": [],
   "source": [
    "df.head(5)"
   ]
  },
  {
   "cell_type": "code",
   "execution_count": null,
   "metadata": {},
   "outputs": [],
   "source": [
    "df.columns\n"
   ]
  },
  {
   "cell_type": "code",
   "execution_count": null,
   "metadata": {},
   "outputs": [],
   "source": [
    "df.shape"
   ]
  },
  {
   "cell_type": "code",
   "execution_count": 7,
   "metadata": {},
   "outputs": [],
   "source": [
    "# Remove duplicates based on MMSI and timestamp (BaseDateTime)\n",
    "df = df.drop_duplicates(subset=[\"MMSI\", \"BaseDateTime\"])\n"
   ]
  },
  {
   "cell_type": "code",
   "execution_count": null,
   "metadata": {},
   "outputs": [],
   "source": [
    "df.shape"
   ]
  },
  {
   "cell_type": "code",
   "execution_count": null,
   "metadata": {},
   "outputs": [],
   "source": [
    "df.head(5)"
   ]
  },
  {
   "cell_type": "code",
   "execution_count": 10,
   "metadata": {},
   "outputs": [],
   "source": [
    "df['StatusBinary'] = df['Status'].apply(lambda x: 0 if x == 0 else 1)"
   ]
  },
  {
   "cell_type": "code",
   "execution_count": null,
   "metadata": {},
   "outputs": [],
   "source": [
    "df.head(5)"
   ]
  },
  {
   "cell_type": "code",
   "execution_count": 12,
   "metadata": {},
   "outputs": [],
   "source": [
    "import pandas as pd\n",
    "\n",
    "# Example mapping function\n",
    "def map_vessel_type(vessel_type):\n",
    "    try:\n",
    "        vessel_type = int(vessel_type)\n",
    "        first_digit = int(str(vessel_type)[0])\n",
    "    except (ValueError, TypeError):\n",
    "        return 'Unknown'\n",
    "\n",
    "    mapping = {\n",
    "        1: 'Reserved',\n",
    "        2: 'Wing In Ground',\n",
    "        3: 'Special Category',\n",
    "        4: 'High-Speed Craft',\n",
    "        5: 'Special Category',\n",
    "        6: 'Passenger',\n",
    "        7: 'Cargo',\n",
    "        8: 'Tanker',\n",
    "        9: 'Other'\n",
    "    }\n",
    "    return mapping.get(first_digit, 'Unknown')\n",
    "\n",
    "# Example: Apply on a DataFrame column\n",
    "df['VesselTypeString'] = df['VesselType'].apply(map_vessel_type)\n",
    "\n",
    "\n"
   ]
  },
  {
   "cell_type": "code",
   "execution_count": null,
   "metadata": {},
   "outputs": [],
   "source": [
    "df.head(5)"
   ]
  },
  {
   "cell_type": "code",
   "execution_count": 14,
   "metadata": {},
   "outputs": [],
   "source": [
    "# Simple label encoding: A = 1, B = 2\n",
    "transceiver_mapping = {'A': \"Large Class\", 'B': \"Small Class\"}\n",
    "df['TransceiverEncoded'] = df['TransceiverClass'].map(transceiver_mapping)"
   ]
  },
  {
   "cell_type": "code",
   "execution_count": 15,
   "metadata": {},
   "outputs": [],
   "source": [
    "df['BaseDateTime'] = pd.to_datetime(df['BaseDateTime'])\n"
   ]
  },
  {
   "cell_type": "code",
   "execution_count": null,
   "metadata": {},
   "outputs": [],
   "source": [
    "df.head(5)"
   ]
  },
  {
   "cell_type": "code",
   "execution_count": null,
   "metadata": {},
   "outputs": [],
   "source": [
    "columns_needed = [\n",
    "    'MMSI', 'BaseDateTime', 'LAT', 'LON', 'SOG', 'COG', 'Heading', \n",
    "    'VesselName', 'IMO', 'CallSign', 'VesselTypeString', 'StatusBinary',\n",
    "    'Length', 'Width', 'Draft', 'TransceiverEncoded'\n",
    "]\n",
    "\n",
    "df_new = df[columns_needed]\n",
    "\n",
    "# --- 5. Save to new CSV ---\n",
    "df_new.to_csv(\"CLEAN_AIS_2024_12_31.csv\", index=False)\n",
    "print(\"New dataset saved as 'updated_ais_dataset.csv'\")"
   ]
  },
  {
   "cell_type": "code",
   "execution_count": null,
   "metadata": {},
   "outputs": [],
   "source": []
  },
  {
   "cell_type": "code",
   "execution_count": null,
   "metadata": {},
   "outputs": [],
   "source": []
  },
  {
   "cell_type": "code",
   "execution_count": 20,
   "metadata": {},
   "outputs": [],
   "source": []
  },
  {
   "cell_type": "code",
   "execution_count": 21,
   "metadata": {},
   "outputs": [],
   "source": [
    "df['heading_vs_cog_diff'] = abs(df['Heading'] - df['COG'])"
   ]
  },
  {
   "cell_type": "code",
   "execution_count": null,
   "metadata": {},
   "outputs": [],
   "source": [
    "# Function to calculate loiter time per group (MMSI)\n",
    "def loitering_time(group):\n",
    "    # Calculate the difference in LAT and LON for consecutive rows\n",
    "    group['LAT_diff'] = group['LAT'].diff().abs()\n",
    "    group['LON_diff'] = group['LON'].diff().abs()\n",
    "    \n",
    "    # Mark as loitering if the movement is small (threshold < 0.0001)\n",
    "    group['is_loitering'] = ((group['LAT_diff'] < 0.0001) & (group['LON_diff'] < 0.0001)).astype(int)\n",
    "    \n",
    "    # Return the sum of loitering flags per group\n",
    "    return group['is_loitering']\n",
    "\n",
    "# Apply the function to the grouped DataFrame\n",
    "df['loiter_time'] = df.groupby('MMSI').apply(loitering_time).reset_index(drop=True)\n",
    "\n",
    "# Now, you can check the result\n",
    "print(df.head())\n"
   ]
  },
  {
   "cell_type": "code",
   "execution_count": null,
   "metadata": {},
   "outputs": [],
   "source": [
    "# Apply the function to the grouped DataFrame\n",
    "df['loiter_time'] = df.groupby('MMSI').apply(loitering_time).reset_index(drop=True)\n",
    "\n",
    "# Generate a new CSV file with updated attributes\n",
    "df.to_csv('updated_ships_data_with_loitering.csv', index=False)\n",
    "\n",
    "# Confirm the action\n",
    "print(\"✅ New CSV file 'updated_ships_data_with_loitering.csv' has been created with all attributes and new features.\")"
   ]
  },
  {
   "cell_type": "code",
   "execution_count": null,
   "metadata": {},
   "outputs": [],
   "source": [
    "df.head(20)"
   ]
  },
  {
   "cell_type": "code",
   "execution_count": null,
   "metadata": {},
   "outputs": [],
   "source": []
  }
 ],
 "metadata": {
  "kernelspec": {
   "display_name": "Python 3",
   "language": "python",
   "name": "python3"
  },
  "language_info": {
   "codemirror_mode": {
    "name": "ipython",
    "version": 3
   },
   "file_extension": ".py",
   "mimetype": "text/x-python",
   "name": "python",
   "nbconvert_exporter": "python",
   "pygments_lexer": "ipython3",
   "version": "3.12.2"
  }
 },
 "nbformat": 4,
 "nbformat_minor": 2
}
